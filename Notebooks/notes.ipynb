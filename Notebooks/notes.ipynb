{
 "cells": [
  {
   "cell_type": "markdown",
   "id": "5851aba8",
   "metadata": {},
   "source": [
    "### Estrutura do repositório:\n",
    "\n",
    "- ***notebooks***\n",
    "\n",
    "    1. `analise_dados.ipynb`\n",
    "       - verificação do tipo dados (`df.info()`)\n",
    "       - verificação de nulos\n",
    "       - verificação de outliers\n",
    "       - correlação entre features e entre target\n",
    "       - estatísticas básicas (médias, medianas, std, etc.) (`describe`)\n",
    "    2. `regressao_logistica.ipynb`\n",
    "   3. `evaluation.ipynb` **(decidir as métricas e explicar porquê)**\n",
    "   4. `decision_tree.ipynb`\n",
    "   5. `random_forest.ipynb`\n",
    "   6. `xgboost.ipynb`\n",
    "   7. `isolation_forest.ipynb` **(modelo não-supervisionado)**\n",
    "   8. `dbscan/hdbscan.ipynb` **(modelo de clusterização)**\n",
    " ***data***\n",
    "   1. `input`\n",
    "   \n",
    "   2. `output`\n",
    "- ***scr***\n",
    "- ***tests***\n",
    "- `requirements.txt` *(se você usar o uv ou poetry: `pyproject.toml` + `uv.lock`/`poetry.lock`)**\n",
    "\n",
    "Projeto: https://www.kaggle.com/datasets/mlg-ulb/creditcardfraud/data\n",
    "\n",
    "base de dados desbalanceada\n",
    "\n",
    "Sugestão: Para fazer gerenciamento de biblioteca, use o uv\n",
    "\n",
    "https://docs.astral.sh/uv/guides/install-python/\n",
    "\n",
    "https://github.com/astral-sh/uv"
   ]
  },
  {
   "cell_type": "markdown",
   "id": "a6269006",
   "metadata": {},
   "source": []
  }
 ],
 "metadata": {
  "language_info": {
   "name": "python"
  }
 },
 "nbformat": 4,
 "nbformat_minor": 5
}
